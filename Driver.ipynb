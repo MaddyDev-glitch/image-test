{
 "cells": [
  {
   "cell_type": "code",
   "execution_count": null,
   "metadata": {},
   "outputs": [],
   "source": [
    "from tkinter import *\n",
    "from tkinter import filedialog\n",
    "import os\n",
    "import ImageTransformation as iT\n",
    "from PIL import ImageTk, Image\n",
    "\n",
    "def choose_File():\n",
    "    filename = filedialog.askopenfilename()\n",
    "    entry1.insert(0,str(filename))\n",
    "\n",
    "\n",
    "def performHenonManipulation():\n",
    "    filename = entry1.get()\n",
    "    resImage = iT.pixelManipulation(512, filename)\n",
    "    entry3.insert(0,resImage)\n",
    "    #print(filename)\n",
    "\n",
    "\n",
    "def openFileForHenon():\n",
    "    window = Toplevel(root)\n",
    "    window.title(\"Henon Map\")\n",
    "    window.geometry(\"600x600\")\n",
    "    path = entry3.get()\n",
    "    img = ImageTk.PhotoImage(Image.open(path))\n",
    "    panel = Label(window, image=img)\n",
    "    panel.pack(side=\"bottom\", fill=\"both\", expand=\"yes\")\n",
    "    window.mainloop()\n",
    "\n",
    "\n",
    "root =Tk()\n",
    "topFrame = Frame(root)\n",
    "topFrame.pack()\n",
    "\n",
    "\n",
    "bottomFrame = Frame(root)\n",
    "bottomFrame.pack(side=BOTTOM)\n",
    "\n",
    "\n",
    "label_1 = Label(topFrame, text =\"Image to be Encrypted : \",width = 125)\n",
    "entry1 = Entry(topFrame,width =100)\n",
    "button1 = Button(topFrame, text = \"Select Image\",command = choose_File)\n",
    "\n",
    "\n",
    "button4 = Button(bottomFrame, text=\"Generate Henon Map\",command = performHenonManipulation,width=20)\n",
    "entry3 = Entry(bottomFrame,width =80)\n",
    "button5 = Button(bottomFrame, text=\"Open Image\",command = openFileForHenon)\n",
    "\n",
    "\n",
    "label_1.pack(side = TOP)\n",
    "entry1.pack(side = TOP)\n",
    "button1.pack(side = TOP)\n",
    "\n",
    "\n",
    "button4.pack(side = LEFT)\n",
    "entry3.pack(side = LEFT)\n",
    "button5.pack(side = LEFT)\n",
    "\n",
    "root.mainloop()\n"
   ]
  },
  {
   "cell_type": "code",
   "execution_count": 1,
   "metadata": {},
   "outputs": [
    {
     "name": "stdout",
     "output_type": "stream",
     "text": [
      "Collecting appmode\n",
      "  Using cached https://files.pythonhosted.org/packages/f3/15/0aa5f14ea3ec529f2bfd33879246d1b2811c20e58aead88a143e1b5a61d2/appmode-0.8.0.tar.gz\n",
      "Requirement already satisfied: notebook>=5 in d:\\anaconda\\lib\\site-packages (from appmode) (6.0.0)\n",
      "Requirement already satisfied: pyzmq>=17 in d:\\anaconda\\lib\\site-packages (from notebook>=5->appmode) (18.0.0)\n",
      "Requirement already satisfied: Send2Trash in d:\\anaconda\\lib\\site-packages (from notebook>=5->appmode) (1.5.0)\n",
      "Requirement already satisfied: prometheus-client in d:\\anaconda\\lib\\site-packages (from notebook>=5->appmode) (0.7.1)\n",
      "Requirement already satisfied: jinja2 in d:\\anaconda\\lib\\site-packages (from notebook>=5->appmode) (2.10.1)\n",
      "Requirement already satisfied: ipykernel in d:\\anaconda\\lib\\site-packages (from notebook>=5->appmode) (5.1.1)\n",
      "Requirement already satisfied: tornado>=5.0 in d:\\anaconda\\lib\\site-packages (from notebook>=5->appmode) (6.0.3)\n",
      "Requirement already satisfied: jupyter-core>=4.4.0 in d:\\anaconda\\lib\\site-packages (from notebook>=5->appmode) (4.5.0)\n",
      "Requirement already satisfied: terminado>=0.8.1 in d:\\anaconda\\lib\\site-packages (from notebook>=5->appmode) (0.8.2)\n",
      "Requirement already satisfied: traitlets>=4.2.1 in d:\\anaconda\\lib\\site-packages (from notebook>=5->appmode) (4.3.2)\n",
      "Requirement already satisfied: nbconvert in d:\\anaconda\\lib\\site-packages (from notebook>=5->appmode) (5.5.0)\n",
      "Requirement already satisfied: nbformat in d:\\anaconda\\lib\\site-packages (from notebook>=5->appmode) (4.4.0)\n",
      "Requirement already satisfied: ipython-genutils in d:\\anaconda\\lib\\site-packages (from notebook>=5->appmode) (0.2.0)\n",
      "Requirement already satisfied: jupyter-client>=5.3.1 in d:\\anaconda\\lib\\site-packages (from notebook>=5->appmode) (5.3.1)\n",
      "Requirement already satisfied: MarkupSafe>=0.23 in d:\\anaconda\\lib\\site-packages (from jinja2->notebook>=5->appmode) (1.1.1)\n",
      "Requirement already satisfied: ipython>=5.0.0 in d:\\anaconda\\lib\\site-packages (from ipykernel->notebook>=5->appmode) (7.6.1)\n",
      "Requirement already satisfied: six in d:\\anaconda\\lib\\site-packages (from traitlets>=4.2.1->notebook>=5->appmode) (1.12.0)\n",
      "Requirement already satisfied: decorator in d:\\anaconda\\lib\\site-packages (from traitlets>=4.2.1->notebook>=5->appmode) (4.4.0)\n",
      "Requirement already satisfied: mistune>=0.8.1 in d:\\anaconda\\lib\\site-packages (from nbconvert->notebook>=5->appmode) (0.8.4)\n",
      "Requirement already satisfied: bleach in d:\\anaconda\\lib\\site-packages (from nbconvert->notebook>=5->appmode) (3.1.0)\n",
      "Requirement already satisfied: pandocfilters>=1.4.1 in d:\\anaconda\\lib\\site-packages (from nbconvert->notebook>=5->appmode) (1.4.2)\n",
      "Requirement already satisfied: defusedxml in d:\\anaconda\\lib\\site-packages (from nbconvert->notebook>=5->appmode) (0.6.0)\n",
      "Requirement already satisfied: entrypoints>=0.2.2 in d:\\anaconda\\lib\\site-packages (from nbconvert->notebook>=5->appmode) (0.3)\n",
      "Requirement already satisfied: pygments in d:\\anaconda\\lib\\site-packages (from nbconvert->notebook>=5->appmode) (2.4.2)\n",
      "Requirement already satisfied: testpath in d:\\anaconda\\lib\\site-packages (from nbconvert->notebook>=5->appmode) (0.4.2)\n",
      "Requirement already satisfied: jsonschema!=2.5.0,>=2.4 in d:\\anaconda\\lib\\site-packages (from nbformat->notebook>=5->appmode) (3.0.1)\n",
      "Requirement already satisfied: python-dateutil>=2.1 in d:\\anaconda\\lib\\site-packages (from jupyter-client>=5.3.1->notebook>=5->appmode) (2.8.0)\n",
      "Requirement already satisfied: jedi>=0.10 in d:\\anaconda\\lib\\site-packages (from ipython>=5.0.0->ipykernel->notebook>=5->appmode) (0.13.3)\n",
      "Requirement already satisfied: setuptools>=18.5 in d:\\anaconda\\lib\\site-packages (from ipython>=5.0.0->ipykernel->notebook>=5->appmode) (41.0.1)\n",
      "Requirement already satisfied: colorama; sys_platform == \"win32\" in d:\\anaconda\\lib\\site-packages (from ipython>=5.0.0->ipykernel->notebook>=5->appmode) (0.4.1)\n",
      "Requirement already satisfied: pickleshare in d:\\anaconda\\lib\\site-packages (from ipython>=5.0.0->ipykernel->notebook>=5->appmode) (0.7.5)\n",
      "Requirement already satisfied: prompt-toolkit<2.1.0,>=2.0.0 in d:\\anaconda\\lib\\site-packages (from ipython>=5.0.0->ipykernel->notebook>=5->appmode) (2.0.9)\n",
      "Requirement already satisfied: backcall in d:\\anaconda\\lib\\site-packages (from ipython>=5.0.0->ipykernel->notebook>=5->appmode) (0.1.0)\n",
      "Requirement already satisfied: webencodings in d:\\anaconda\\lib\\site-packages (from bleach->nbconvert->notebook>=5->appmode) (0.5.1)\n",
      "Requirement already satisfied: attrs>=17.4.0 in d:\\anaconda\\lib\\site-packages (from jsonschema!=2.5.0,>=2.4->nbformat->notebook>=5->appmode) (19.1.0)\n",
      "Requirement already satisfied: pyrsistent>=0.14.0 in d:\\anaconda\\lib\\site-packages (from jsonschema!=2.5.0,>=2.4->nbformat->notebook>=5->appmode) (0.14.11)\n",
      "Requirement already satisfied: parso>=0.3.0 in d:\\anaconda\\lib\\site-packages (from jedi>=0.10->ipython>=5.0.0->ipykernel->notebook>=5->appmode) (0.5.0)\n",
      "Requirement already satisfied: wcwidth in d:\\anaconda\\lib\\site-packages (from prompt-toolkit<2.1.0,>=2.0.0->ipython>=5.0.0->ipykernel->notebook>=5->appmode) (0.1.7)\n",
      "Building wheels for collected packages: appmode\n",
      "  Building wheel for appmode (setup.py): started\n",
      "  Building wheel for appmode (setup.py): finished with status 'done'\n",
      "  Stored in directory: C:\\Users\\SriMadhaven\\AppData\\Local\\pip\\Cache\\wheels\\52\\74\\60\\1962230359ec0e5ef9a6f0faf18fed2ed62b47d6329c358e07\n",
      "Successfully built appmode\n",
      "Installing collected packages: appmode\n",
      "Successfully installed appmode-0.8.0\n",
      "Note: you may need to restart the kernel to use updated packages.\n"
     ]
    }
   ],
   "source": [
    "\n",
    "pip install appmode\n"
   ]
  },
  {
   "cell_type": "code",
   "execution_count": 10,
   "metadata": {},
   "outputs": [],
   "source": [
    "from tkinter import *\n",
    "from tkinter import filedialog\n",
    "import os\n",
    "import HenonDecryption as hD\n",
    "from PIL import ImageTk, Image\n",
    "\n",
    "def choose_File():\n",
    "    filename = filedialog.askopenfilename()\n",
    "    entry1.insert(0,str(filename))\n",
    "\n",
    "\n",
    "def decryptHenonManipulation():\n",
    "    filename = entry1.get()\n",
    "    resImage = hD.decryptHenonImage(filename)\n",
    "    entry3.insert(0,resImage)\n",
    "    #print(filename)\n",
    "\n",
    "\n",
    "def openFileForHenon():\n",
    "    window = Toplevel(root)\n",
    "    window.title(\"Henon Map\")\n",
    "    window.geometry(\"600x600\")\n",
    "    path = entry3.get()\n",
    "    img = ImageTk.PhotoImage(Image.open(path))\n",
    "    panel = Label(window, image=img)\n",
    "    panel.pack(side=\"bottom\", fill=\"both\", expand=\"yes\")\n",
    "    window.mainloop()\n",
    "\n",
    "\n",
    "root =Tk()\n",
    "Frame1 = Frame(root)\n",
    "Frame1.pack()\n",
    "\n",
    "\n",
    "Frame4= Frame(root)\n",
    "Frame4.pack(side=TOP)\n",
    "\n",
    "\n",
    "label_1 = Label(Frame1, text =\"Image to be Decrypted : \",width = 125)\n",
    "entry1 = Entry(Frame1,width =100)\n",
    "button1 = Button(Frame1, text = \"Select Image\",command = choose_File)\n",
    "\n",
    "button4 = Button(Frame4, text=\"Decrypt Henon Map\",command = decryptHenonManipulation,width=20)\n",
    "entry3 = Entry(Frame4,width =80)\n",
    "button5 = Button(Frame4, text=\"Open Image\",command = openFileForHenon)\n",
    "\n",
    "\n",
    "label_1.pack(side = TOP)\n",
    "entry1.pack(side = TOP)\n",
    "button1.pack(side = TOP)\n",
    "\n",
    "\n",
    "button4.pack(side = LEFT)\n",
    "entry3.pack(side = LEFT)\n",
    "button5.pack(side = LEFT)\n",
    "\n",
    "root.mainloop()\n"
   ]
  },
  {
   "cell_type": "code",
   "execution_count": 2,
   "metadata": {},
   "outputs": [
    {
     "ename": "SyntaxError",
     "evalue": "invalid syntax (<ipython-input-2-55efcdba2008>, line 1)",
     "output_type": "error",
     "traceback": [
      "\u001b[1;36m  File \u001b[1;32m\"<ipython-input-2-55efcdba2008>\"\u001b[1;36m, line \u001b[1;32m1\u001b[0m\n\u001b[1;33m    jupyter nbextension     enable --py --sys-prefix appmode\u001b[0m\n\u001b[1;37m                      ^\u001b[0m\n\u001b[1;31mSyntaxError\u001b[0m\u001b[1;31m:\u001b[0m invalid syntax\n"
     ]
    }
   ],
   "source": [
    "jupyter nbextension     enable --py --sys-prefix appmode\n"
   ]
  },
  {
   "cell_type": "code",
   "execution_count": 3,
   "metadata": {},
   "outputs": [
    {
     "ename": "SyntaxError",
     "evalue": "invalid syntax (<ipython-input-3-84e7fb4ed1c2>, line 1)",
     "output_type": "error",
     "traceback": [
      "\u001b[1;36m  File \u001b[1;32m\"<ipython-input-3-84e7fb4ed1c2>\"\u001b[1;36m, line \u001b[1;32m1\u001b[0m\n\u001b[1;33m    jupyter nbextension enable --py --sys-prefix appmode\u001b[0m\n\u001b[1;37m                      ^\u001b[0m\n\u001b[1;31mSyntaxError\u001b[0m\u001b[1;31m:\u001b[0m invalid syntax\n"
     ]
    }
   ],
   "source": [
    "jupyter nbextension enable --py --sys-prefix appmode\n"
   ]
  },
  {
   "cell_type": "code",
   "execution_count": 4,
   "metadata": {},
   "outputs": [
    {
     "ename": "SyntaxError",
     "evalue": "invalid syntax (<ipython-input-4-1fa2f24c326f>, line 1)",
     "output_type": "error",
     "traceback": [
      "\u001b[1;36m  File \u001b[1;32m\"<ipython-input-4-1fa2f24c326f>\"\u001b[1;36m, line \u001b[1;32m1\u001b[0m\n\u001b[1;33m    pip install appmode\u001b[0m\n\u001b[1;37m              ^\u001b[0m\n\u001b[1;31mSyntaxError\u001b[0m\u001b[1;31m:\u001b[0m invalid syntax\n"
     ]
    }
   ],
   "source": [
    "pip install appmode\n",
    "jupyter nbextension     enable --py --sys-prefix appmode\n",
    "jupyter serverextension enable --py --sys-prefix appmode"
   ]
  },
  {
   "cell_type": "code",
   "execution_count": 5,
   "metadata": {},
   "outputs": [
    {
     "ename": "SyntaxError",
     "evalue": "invalid syntax (<ipython-input-5-1fa2f24c326f>, line 1)",
     "output_type": "error",
     "traceback": [
      "\u001b[1;36m  File \u001b[1;32m\"<ipython-input-5-1fa2f24c326f>\"\u001b[1;36m, line \u001b[1;32m1\u001b[0m\n\u001b[1;33m    pip install appmode\u001b[0m\n\u001b[1;37m              ^\u001b[0m\n\u001b[1;31mSyntaxError\u001b[0m\u001b[1;31m:\u001b[0m invalid syntax\n"
     ]
    }
   ],
   "source": [
    "pip install appmode\n",
    "jupyter nbextension     enable --py --sys-prefix appmode\n",
    "jupyter serverextension enable --py --sys-prefix appmode"
   ]
  },
  {
   "cell_type": "code",
   "execution_count": 1,
   "metadata": {},
   "outputs": [
    {
     "name": "stdout",
     "output_type": "stream",
     "text": [
      "Requirement already satisfied: appmode in d:\\anaconda\\lib\\site-packages (0.8.0)\n",
      "Requirement already satisfied: notebook>=5 in d:\\anaconda\\lib\\site-packages (from appmode) (6.0.0)\n",
      "Requirement already satisfied: traitlets>=4.2.1 in d:\\anaconda\\lib\\site-packages (from notebook>=5->appmode) (4.3.2)\n",
      "Requirement already satisfied: Send2Trash in d:\\anaconda\\lib\\site-packages (from notebook>=5->appmode) (1.5.0)\n",
      "Requirement already satisfied: nbconvert in d:\\anaconda\\lib\\site-packages (from notebook>=5->appmode) (5.5.0)\n",
      "Requirement already satisfied: jinja2 in d:\\anaconda\\lib\\site-packages (from notebook>=5->appmode) (2.10.1)\n",
      "Requirement already satisfied: ipykernel in d:\\anaconda\\lib\\site-packages (from notebook>=5->appmode) (5.1.1)\n",
      "Requirement already satisfied: terminado>=0.8.1 in d:\\anaconda\\lib\\site-packages (from notebook>=5->appmode) (0.8.2)\n",
      "Requirement already satisfied: jupyter-client>=5.3.1 in d:\\anaconda\\lib\\site-packages (from notebook>=5->appmode) (5.3.1)\n",
      "Requirement already satisfied: nbformat in d:\\anaconda\\lib\\site-packages (from notebook>=5->appmode) (4.4.0)\n",
      "Requirement already satisfied: jupyter-core>=4.4.0 in d:\\anaconda\\lib\\site-packages (from notebook>=5->appmode) (4.5.0)\n",
      "Requirement already satisfied: prometheus-client in d:\\anaconda\\lib\\site-packages (from notebook>=5->appmode) (0.7.1)\n",
      "Requirement already satisfied: tornado>=5.0 in d:\\anaconda\\lib\\site-packages (from notebook>=5->appmode) (6.0.3)\n",
      "Requirement already satisfied: pyzmq>=17 in d:\\anaconda\\lib\\site-packages (from notebook>=5->appmode) (18.0.0)\n",
      "Requirement already satisfied: ipython-genutils in d:\\anaconda\\lib\\site-packages (from notebook>=5->appmode) (0.2.0)\n",
      "Requirement already satisfied: six in d:\\anaconda\\lib\\site-packages (from traitlets>=4.2.1->notebook>=5->appmode) (1.12.0)\n",
      "Requirement already satisfied: decorator in d:\\anaconda\\lib\\site-packages (from traitlets>=4.2.1->notebook>=5->appmode) (4.4.0)\n",
      "Requirement already satisfied: mistune>=0.8.1 in d:\\anaconda\\lib\\site-packages (from nbconvert->notebook>=5->appmode) (0.8.4)\n",
      "Requirement already satisfied: testpath in d:\\anaconda\\lib\\site-packages (from nbconvert->notebook>=5->appmode) (0.4.2)\n",
      "Requirement already satisfied: entrypoints>=0.2.2 in d:\\anaconda\\lib\\site-packages (from nbconvert->notebook>=5->appmode) (0.3)\n",
      "Requirement already satisfied: defusedxml in d:\\anaconda\\lib\\site-packages (from nbconvert->notebook>=5->appmode) (0.6.0)\n",
      "Requirement already satisfied: bleach in d:\\anaconda\\lib\\site-packages (from nbconvert->notebook>=5->appmode) (3.1.0)\n",
      "Requirement already satisfied: pandocfilters>=1.4.1 in d:\\anaconda\\lib\\site-packages (from nbconvert->notebook>=5->appmode) (1.4.2)\n",
      "Requirement already satisfied: pygments in d:\\anaconda\\lib\\site-packages (from nbconvert->notebook>=5->appmode) (2.4.2)\n",
      "Requirement already satisfied: MarkupSafe>=0.23 in d:\\anaconda\\lib\\site-packages (from jinja2->notebook>=5->appmode) (1.1.1)\n",
      "Requirement already satisfied: ipython>=5.0.0 in d:\\anaconda\\lib\\site-packages (from ipykernel->notebook>=5->appmode) (7.6.1)\n",
      "Requirement already satisfied: python-dateutil>=2.1 in d:\\anaconda\\lib\\site-packages (from jupyter-client>=5.3.1->notebook>=5->appmode) (2.8.0)\n",
      "Requirement already satisfied: jsonschema!=2.5.0,>=2.4 in d:\\anaconda\\lib\\site-packages (from nbformat->notebook>=5->appmode) (3.0.1)\n",
      "Requirement already satisfied: webencodings in d:\\anaconda\\lib\\site-packages (from bleach->nbconvert->notebook>=5->appmode) (0.5.1)\n",
      "Requirement already satisfied: pickleshare in d:\\anaconda\\lib\\site-packages (from ipython>=5.0.0->ipykernel->notebook>=5->appmode) (0.7.5)\n",
      "Requirement already satisfied: jedi>=0.10 in d:\\anaconda\\lib\\site-packages (from ipython>=5.0.0->ipykernel->notebook>=5->appmode) (0.13.3)\n",
      "Requirement already satisfied: setuptools>=18.5 in d:\\anaconda\\lib\\site-packages (from ipython>=5.0.0->ipykernel->notebook>=5->appmode) (41.0.1)\n",
      "Requirement already satisfied: backcall in d:\\anaconda\\lib\\site-packages (from ipython>=5.0.0->ipykernel->notebook>=5->appmode) (0.1.0)\n",
      "Requirement already satisfied: prompt-toolkit<2.1.0,>=2.0.0 in d:\\anaconda\\lib\\site-packages (from ipython>=5.0.0->ipykernel->notebook>=5->appmode) (2.0.9)\n",
      "Requirement already satisfied: colorama; sys_platform == \"win32\" in d:\\anaconda\\lib\\site-packages (from ipython>=5.0.0->ipykernel->notebook>=5->appmode) (0.4.1)\n",
      "Requirement already satisfied: attrs>=17.4.0 in d:\\anaconda\\lib\\site-packages (from jsonschema!=2.5.0,>=2.4->nbformat->notebook>=5->appmode) (19.1.0)\n",
      "Requirement already satisfied: pyrsistent>=0.14.0 in d:\\anaconda\\lib\\site-packages (from jsonschema!=2.5.0,>=2.4->nbformat->notebook>=5->appmode) (0.14.11)\n",
      "Requirement already satisfied: parso>=0.3.0 in d:\\anaconda\\lib\\site-packages (from jedi>=0.10->ipython>=5.0.0->ipykernel->notebook>=5->appmode) (0.5.0)\n",
      "Requirement already satisfied: wcwidth in d:\\anaconda\\lib\\site-packages (from prompt-toolkit<2.1.0,>=2.0.0->ipython>=5.0.0->ipykernel->notebook>=5->appmode) (0.1.7)\n",
      "Note: you may need to restart the kernel to use updated packages.\n"
     ]
    }
   ],
   "source": [
    "pip install appmode\n"
   ]
  },
  {
   "cell_type": "code",
   "execution_count": 2,
   "metadata": {},
   "outputs": [
    {
     "name": "stdout",
     "output_type": "stream",
     "text": [
      "Collecting package metadata (current_repodata.json): ...working... done\n",
      "Solving environment: ...working... done\n",
      "\n",
      "## Package Plan ##\n",
      "\n",
      "  environment location: D:\\Anaconda\n",
      "\n",
      "  added / updated specs:\n",
      "    - appmode\n",
      "\n",
      "\n",
      "The following packages will be downloaded:\n",
      "\n",
      "    package                    |            build\n",
      "    ---------------------------|-----------------\n",
      "    appmode-0.8.0              |   py37hc8dfbb8_2          16 KB  conda-forge\n",
      "    conda-4.9.2                |   py37h03978a9_0         3.0 MB  conda-forge\n",
      "    python_abi-3.7             |          1_cp37m           4 KB  conda-forge\n",
      "    requests-2.22.0            |           py37_0          84 KB  conda-forge\n",
      "    ------------------------------------------------------------\n",
      "                                           Total:         3.1 MB\n",
      "\n",
      "The following NEW packages will be INSTALLED:\n",
      "\n",
      "  appmode            conda-forge/win-64::appmode-0.8.0-py37hc8dfbb8_2\n",
      "  python_abi         conda-forge/win-64::python_abi-3.7-1_cp37m\n",
      "\n",
      "The following packages will be UPDATED:\n",
      "\n",
      "  conda                      pkgs/main::conda-4.7.10-py37_0 --> conda-forge::conda-4.9.2-py37h03978a9_0\n",
      "\n",
      "The following packages will be SUPERSEDED by a higher-priority channel:\n",
      "\n",
      "  requests                                        pkgs/main --> conda-forge\n",
      "\n",
      "\n",
      "\n",
      "Downloading and Extracting Packages\n",
      "\n",
      "conda-4.9.2          | 3.0 MB    |            |   0% \n",
      "conda-4.9.2          | 3.0 MB    |            |   1% \n",
      "conda-4.9.2          | 3.0 MB    | #5         |  16% \n",
      "conda-4.9.2          | 3.0 MB    | #####7     |  57% \n",
      "conda-4.9.2          | 3.0 MB    | ########1  |  81% \n",
      "conda-4.9.2          | 3.0 MB    | ########## | 100% \n",
      "\n",
      "python_abi-3.7       | 4 KB      |            |   0% \n",
      "python_abi-3.7       | 4 KB      | ########## | 100% \n",
      "\n",
      "appmode-0.8.0        | 16 KB     |            |   0% \n",
      "appmode-0.8.0        | 16 KB     | ########## | 100% \n",
      "\n",
      "requests-2.22.0      | 84 KB     |            |   0% \n",
      "requests-2.22.0      | 84 KB     | ########## | 100% \n",
      "Preparing transaction: ...working... done\n",
      "Verifying transaction: ...working... done\n",
      "Executing transaction: ...working... done\n",
      "\n",
      "Note: you may need to restart the kernel to use updated packages.\n"
     ]
    },
    {
     "name": "stderr",
     "output_type": "stream",
     "text": [
      "\n",
      "\n",
      "==> WARNING: A newer version of conda exists. <==\n",
      "  current version: 4.7.10\n",
      "  latest version: 4.9.2\n",
      "\n",
      "Please update conda by running\n",
      "\n",
      "    $ conda update -n base -c defaults conda\n",
      "\n",
      "\n"
     ]
    }
   ],
   "source": [
    "conda install --channel conda-forge appmode\n"
   ]
  },
  {
   "cell_type": "code",
   "execution_count": null,
   "metadata": {},
   "outputs": [],
   "source": []
  }
 ],
 "metadata": {
  "kernelspec": {
   "display_name": "Python 3",
   "language": "python",
   "name": "python3"
  },
  "language_info": {
   "codemirror_mode": {
    "name": "ipython",
    "version": 3
   },
   "file_extension": ".py",
   "mimetype": "text/x-python",
   "name": "python",
   "nbconvert_exporter": "python",
   "pygments_lexer": "ipython3",
   "version": "3.7.3"
  }
 },
 "nbformat": 4,
 "nbformat_minor": 2
}
